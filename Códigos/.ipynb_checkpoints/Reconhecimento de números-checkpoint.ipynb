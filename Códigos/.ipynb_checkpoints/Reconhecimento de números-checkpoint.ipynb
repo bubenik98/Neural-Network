{
 "cells": [
  {
   "cell_type": "markdown",
   "id": "767750df",
   "metadata": {},
   "source": [
    "# Dados\n",
    "\n",
    "Os dados utilizados neste notebook podem ser encontrados em https://drive.google.com/drive/u/1/folders/0ALqN9KkemfmvUk9PVA"
   ]
  },
  {
   "cell_type": "code",
   "execution_count": 1,
   "id": "63cbf84b",
   "metadata": {},
   "outputs": [],
   "source": [
    "import numpy as np\n",
    "import matplotlib.pyplot as plt\n",
    "import os\n",
    "import matplotlib.image as image\n",
    "from time import time\n",
    "import imageio as io\n",
    "import random\n",
    "import pandas as pd\n",
    "from sklearn.neural_network import MLPRegressor\n"
   ]
  },
  {
   "cell_type": "markdown",
   "id": "f6c43aa3",
   "metadata": {},
   "source": [
    "# Funções:"
   ]
  },
  {
   "cell_type": "code",
   "execution_count": 58,
   "id": "a82708bf",
   "metadata": {},
   "outputs": [],
   "source": [
    "def sigmoid(x, y, b, val):    #Função de ativação usada para avaliar a rede\n",
    "\n",
    "    z = np.dot(y, x)\n",
    "    \n",
    "    if val:\n",
    "        z = z.transpose() + b\n",
    "    else:\n",
    "        z += b\n",
    "\n",
    "    a = (1/(1+np.exp(-z)))\n",
    "            \n",
    "    #a = np.array(a)\n",
    "\n",
    "    return a, z\n",
    "\n",
    "def softmax(x, y, b, val):\n",
    "\n",
    "    z = np.dot(y, x)\n",
    "    \n",
    "    if val:\n",
    "        output = []\n",
    "        z = z.transpose() + b\n",
    "        for exp in np.exp(z):\n",
    "            output.append(exp / np.sum(exp))\n",
    "        np.array(output)\n",
    "    else:\n",
    "        z += b\n",
    "        exp = np.exp(z)\n",
    "        output = exp / np.sum(exp)\n",
    "\n",
    "    return output, z\n",
    "\n",
    "def tanh(x, y, b):\n",
    "    z = np.dot(y, x) + b\n",
    "    a = []\n",
    "    for h in z:\n",
    "        if h >= 700:\n",
    "            a.append(1)\n",
    "\n",
    "        elif h <= -700:\n",
    "            a.append(0)\n",
    "\n",
    "        else:\n",
    "            a.append(np.tanh(h))\n",
    "            \n",
    "    a = np.array(a)\n",
    "\n",
    "    return a, z\n",
    "\n",
    "def derivate_sigmoid(X):  #Derivada da função de ativação\n",
    "\n",
    "    exp = np.exp(-X)\n",
    "    \n",
    "    der = (1/(1 + exp) * (1 - 1/(1 + exp)))\n",
    "\n",
    "                       \n",
    "    return der\n",
    "\n",
    "\n",
    "def derivate_tanh(X):  #Derivada da função de ativação\n",
    "    der = []\n",
    "    for x in X:\n",
    "        \n",
    "        if x < 700 and x > -700:   # Condição usada para não dar erro, mas espera-se que os valores nunca estejam fora desse intervalo, já que o neurônio ficaria saturado\n",
    "            der.append(1-np.tanh(x)**2)\n",
    "                       \n",
    "        else:\n",
    "            der.append(0)\n",
    "                       \n",
    "    return np.array(der)\n",
    "\n",
    "\n",
    "\n",
    "\n",
    "class Network():\n",
    "    def __init__(self, architecture):   # Aqui, serão iniciados aleatóriamente os parâmetros da rede, conforme estrutura informada em \"architeture\"\n",
    "        self.architecture = architecture\n",
    "        self.w = []\n",
    "        self.b = []\n",
    "        for i in np.arange(1,len(architecture)):\n",
    "            self.w.append([])\n",
    "            self.b.append([])\n",
    "            for j in range(architecture[i]):\n",
    "                self.b[i-1].append(np.random.normal(0,1))\n",
    "                self.w[i-1].append([])\n",
    "                for k in range(architecture[i-1]):\n",
    "                    self.w[i-1][j].append(np.random.normal(0,1/np.sqrt(architecture[i-1])))  # Este desvio padrão é usado para previnir que os neurônios estejam saturados no começo\n",
    "            self.w[i-1] = np.array(self.w[i-1])\n",
    "            self.b[i-1] = np.array(self.b[i-1])\n",
    "            \n",
    "    def cost_function(self, x, y):    # x -> output; y -> input \n",
    "        C = 0\n",
    "        n = len(y)\n",
    "        a, trash = self.evaluate_2(np.array(x))\n",
    "        a = a[-1]\n",
    "        \n",
    "        C += np.sum((np.array(y) - np.array(a))**2)/n #-np.sum(np.array(y) * np.log(np.array(a)))/n\n",
    "                #C += -(x[i][j] * np.log(a[j]) + (1-x[i][j]) * np.log(1-a[j]))/n\n",
    "\n",
    "        return C\n",
    "    \n",
    "    def cost_function_g(self, x, y):    # x -> output; y -> input \n",
    "        C = 0\n",
    "        n = len(y)\n",
    "        a, trash = self.evaluate_2(np.array(x))\n",
    "        a = a[-1]\n",
    "        \n",
    "        C += np.sum(np.abs(np.array(y) - np.array(a)))/n #-np.sum(np.array(y) * np.log(np.array(a)))/n\n",
    "                #C += -(x[i][j] * np.log(a[j]) + (1-x[i][j]) * np.log(1-a[j]))/n\n",
    "\n",
    "        return C\n",
    "\n",
    "\n",
    "    def evaluate(self, y):      # Avalia a rede neural\n",
    "        a = [y]\n",
    "        z = []\n",
    "        for i in range(len(self.w)):\n",
    "            \n",
    "            if i == len(self.w) - 1:\n",
    "                vec_aux = softmax(a[i], self.w[i], self.b[i], False)\n",
    "            else:\n",
    "                vec_aux = sigmoid(a[i], self.w[i], self.b[i], False)\n",
    "                \n",
    "            z.append(vec_aux[1])                  \n",
    "            a.append(vec_aux[0])\n",
    "\n",
    "            \n",
    "        return a, z                # A saída mais importante é o \"a\", mas o \"z\" foi acrescentado aqui em uma tentativa de otimização\n",
    "    \n",
    "    \n",
    "    def evaluate_2(self, y):      # Avalia a rede neural\n",
    "        a = [y]\n",
    "        z = []\n",
    "        for i in range(len(self.w)):\n",
    "            \n",
    "            if i == len(self.w) - 1:\n",
    "                vec_aux = softmax(a[i].transpose(), self.w[i], self.b[i], True)\n",
    "            else:\n",
    "                vec_aux = sigmoid(a[i].transpose(), self.w[i], self.b[i], True)\n",
    "                \n",
    "            z.append(vec_aux[1])                  \n",
    "            a.append(vec_aux[0])\n",
    "\n",
    "            \n",
    "        return a, z               \n",
    "\n",
    "\n",
    "    def update(self, y, x, eta9, nu):           # Função usada para atualizar os pesos, W's, e bias, b's \n",
    "        \n",
    "        eta = -eta9  # Learning rate\n",
    "        \n",
    "        #dw, db = derivative(y, self, x, self.w, self.b)\n",
    "        \n",
    "        #------------------------------------------------------------------------------------------------\n",
    "        \n",
    "        n = len(y)\n",
    "\n",
    "\n",
    "        dw = []\n",
    "        db = []\n",
    "        \n",
    "        for i in range(len(self.w)):\n",
    "            dw.append(0)\n",
    "            db.append(0)\n",
    "\n",
    "        a, z = self.evaluate_2(np.array(y))  # Avalia os dados de entrada na rede e devolve os dados de saída, \"a\", e o \"z\", que é usado no processo de avaliação    \n",
    "                \n",
    "        for l in range(n): #while l < n:           \n",
    "            \n",
    "            for i in range(len(self.w)):   # Rodando em todas as camadas da rede\n",
    "                \n",
    "                i = len(self.w) - i - 1    # O algorítmo do 'Back Propagation' começa no fim e termina no começo\n",
    "                \n",
    "                da_aux = 0\n",
    "\n",
    "\n",
    "                d_sigma = derivate_sigmoid(z[i][l]) \n",
    "\n",
    "  \n",
    "                '''\n",
    "                ---------------------------------------------------------------------------------------------------------------------\n",
    "                Aqui é calculado a derivada da função de custo em relação aos a's - matriz representando a saída de cada neurônio da rede\n",
    "                \n",
    "                '''\n",
    "\n",
    "                if i == len(self.w) - 1 :\n",
    "                    \n",
    "                    da_aux = np.dot(a[i + 1][l] - x[l], self.w[i])\n",
    "                        \n",
    "                else:\n",
    "                    \n",
    "                    da_aux = np.dot(da * d_sigma, self.w[i])\n",
    "                    \n",
    "                '''\n",
    "                ---------------------------------------------------------------------------------------------------------------------\n",
    "                Aqui é calculado a derivada da função de custo em relação aos w's - pesos dos neurônios\n",
    "                \n",
    "                '''\n",
    "                        \n",
    "\n",
    "                if i == len(self.w) - 1 :\n",
    "                    \n",
    "                    dw_aux = np.outer(a[i + 1][l] - x[l], a[i][l]) + nu * self.w[i]\n",
    "\n",
    "                else:\n",
    "                    \n",
    "                    dw_aux = np.outer(da * d_sigma, a[i][l]) + nu * self.w[i] \n",
    "                    \n",
    "                '''\n",
    "                ---------------------------------------------------------------------------------------------------------------------\n",
    "                Aqui é calculado a derivada da função de custo em relação aos b's\n",
    "                \n",
    "                '''\n",
    "\n",
    "                if i == len(self.w) - 1:              \n",
    "\n",
    "                    db_aux = a[i + 1][l] - x[l]           \n",
    "\n",
    "                else:      \n",
    "                    db_aux = da * d_sigma\n",
    "                    \n",
    "                # O resultado é, então, acresentado em dw e db, representando a derivada total na época em questão\n",
    "\n",
    "                dw[i] += eta * np.array(dw_aux)\n",
    "                db[i] += eta * np.array(db_aux)\n",
    "                da = da_aux\n",
    "  \n",
    "        #------------------------------------------------------------------------------------------------\n",
    "            \n",
    "        for m in range(len(self.w)):   # Os w's e b's são atualizados\n",
    "            \n",
    "            self.w[m] += dw[m] / n\n",
    "            self.b[m] += db[m] / n\n",
    "\n",
    "                    \n",
    "        return None\n",
    "    \n",
    "    def run_epoch(self, times_interaction, Training_input, training_output):    \n",
    "        eta = 1                     # Taxa de aprendizagem (Learning rate)\n",
    "        nu = 0.0005                    # Regularização\n",
    "        graph = False              # Informa se será plotado gráficos da função de custo\n",
    "        minibatch = 200            # length of the minibatch. If 0, all the integer batch is going to be used\n",
    "\n",
    "        if minibatch != 0:    # Necessário para fazer o random choice\n",
    "            dataset = {}\n",
    "            dataset['input'] = Training_input\n",
    "            dataset['output'] = training_output\n",
    "            dataset = pd.DataFrame(dataset)\n",
    "            index = np.arange(0,len(Training_input)).tolist()\n",
    "\n",
    "        if graph:             # Dados para o ponto de interação zero do gráfico\n",
    "\n",
    "            Training_cost = [self.cost_function(training_output, Training_input)]       \n",
    "            Validation_cost = [self.cost_function(validation_output, validation_input)]\n",
    "\n",
    "        start = time()\n",
    "        for i in range(times_interaction):\n",
    "\n",
    "            if minibatch != 0:  #Random choice do minibatch\n",
    "\n",
    "                chose_index = random.sample(index, minibatch)\n",
    "                Training_input_aux = dataset.loc[chose_index, 'input'].values.tolist()\n",
    "                training_output_aux = dataset.loc[chose_index, 'output'].values.tolist()\n",
    "                self.update(Training_input_aux, training_output_aux, eta, nu)\n",
    "\n",
    "            else:    \n",
    "\n",
    "                self.update(Training_input, training_output, eta, nu)\n",
    "\n",
    "            if graph:\n",
    "                Training_cost.append(self.cost_function(training_output, Training_input))\n",
    "                Validation_cost.append(self.cost_function(validation_output, validation_input))\n",
    "\n",
    "            if i == 0:           # Informa o tempo que levará para acabar\n",
    "                stop = time()\n",
    "                print(str(-start * times_interaction/3600 + stop * times_interaction/3600) + 'h para finalizar')\n",
    "\n",
    "\n",
    "        if times_interaction > 0 and graph:\n",
    "            t = np.arange(0, times_interaction+1)\n",
    "            plt.plot(t, Training_cost, '.', label = 'Training')\n",
    "            plt.plot(t, Validation_cost, '.', label = 'Validation')\n",
    "            plt.xlabel('Learning Interaction')\n",
    "            plt.ylabel('Cost Function')\n",
    "            plt.title('Cost Function Evolution')\n",
    "            plt.legend()\n",
    "            plt.show()\n",
    "        return None\n",
    "\n",
    "def interpretation(y, x):\n",
    "    t = 0\n",
    "    length = abs(y[0] - 1)\n",
    "    for b in range(len(y)):\n",
    "        if abs(y[b] - 1) < length:\n",
    "            t = b\n",
    "            length = abs(y[b] - 1)\n",
    "            \n",
    "    k = np.zeros(10)\n",
    "    k[t] = 1\n",
    "    aux = 1\n",
    "    for i in range(len(x)):\n",
    "        if x[i] != k[i]:\n",
    "            aux = 0\n",
    "        \n",
    "    return aux\n",
    "        \n",
    "def test(net, validation_input, validation_output):\n",
    "    cont = 0\n",
    "    result_output, trash = net.evaluate_2(np.array(validation_input))\n",
    "    for i in range(len(validation_input)):\n",
    "        \n",
    "        test = interpretation(result_output[-1][i], validation_output[i])\n",
    "\n",
    "        if test:\n",
    "            cont += 1\n",
    "    return cont/len(validation_output)*100\n",
    "\n",
    "def saving(net):\n",
    "    for i in range(len(net.w)):\n",
    "        file = open(str(i) + '.txt', 'w')\n",
    "        for j in range(len(net.w[i])):\n",
    "            for k in range(len(net.w[i][j])):\n",
    "                file.write(str(net.w[i][j][k]) + ';')\n",
    "            file.write('\\n')\n",
    "\n",
    "\n",
    "\n",
    "\n",
    "        file.close()\n",
    "    file = open('b' + '.txt', 'w')\n",
    "    for i in range(len(net.b)):\n",
    "        for j in range(len(net.b[i])):\n",
    "            file.write(str(net.b[i][j]) + ';')\n",
    "        file.write('\\n')\n",
    "    file.close()\n",
    "    \n",
    "    return None\n",
    "\n",
    "def recovering(net):\n",
    "    for i in range(len(net.w)):\n",
    "        file = open(str(i) + '.txt', 'r')\n",
    "        line = file.readline()\n",
    "        j = 0\n",
    "        while line != '':\n",
    "            aux = ''\n",
    "            k = 0\n",
    "            for c in line:\n",
    "                if c != ';' and c != '\\n':\n",
    "                    aux += c\n",
    "                elif c != '\\n':\n",
    "                    net.w[i][j][k] = float(aux)\n",
    "                    aux = ''\n",
    "                    k += 1\n",
    "            j += 1\n",
    "            line = file.readline()\n",
    "\n",
    "\n",
    "    file = open('b' + '.txt', 'r')\n",
    "    line = file.readline()\n",
    "    i = 0\n",
    "    while line != '':\n",
    "        aux = ''\n",
    "        j = 0\n",
    "        for c in line:\n",
    "            if c != ';' and c != '\\n':\n",
    "                aux += c\n",
    "            elif c != '\\n':\n",
    "                net.b[i][j] = float(aux)\n",
    "                aux = ''\n",
    "                j += 1\n",
    "        i += 1\n",
    "        line = file.readline()\n",
    "    return None\n",
    "\n"
   ]
  },
  {
   "cell_type": "markdown",
   "id": "c5476750",
   "metadata": {},
   "source": [
    "* Carregando arquivos teste 0"
   ]
  },
  {
   "cell_type": "code",
   "execution_count": 68,
   "id": "2e90f63c",
   "metadata": {},
   "outputs": [],
   "source": [
    "training_output = []\n",
    "Training_input = []\n",
    "for i in range(10000):\n",
    "    training_output.append([0])\n",
    "    Training_input.append([1])\n",
    "validation_output = []\n",
    "validation_input = []\n",
    "for i in range(1000):\n",
    "    validation_output.append([0])\n",
    "    validation_input.append([1])\n",
    "    \n",
    "net = Network([1])"
   ]
  },
  {
   "cell_type": "markdown",
   "id": "6ddd287f",
   "metadata": {},
   "source": [
    "* Carregando arquivos do teste 1"
   ]
  },
  {
   "cell_type": "code",
   "execution_count": 126,
   "id": "f484e85f",
   "metadata": {},
   "outputs": [],
   "source": [
    "path = os.getcwd()\n",
    "path = os.path.join(path, 'Data')\n",
    "path = os.path.join(path, 'data.txt')\n",
    "file = open(path, 'r')\n",
    "text = file.readline()\n",
    "y = []\n",
    "x = []\n",
    "while text != '':\n",
    "    if len(text) == 1025:\n",
    "        y.append([])\n",
    "        for i in text:\n",
    "            if i != '\\n':\n",
    "                y[-1].append(int(i))\n",
    "    else:\n",
    "\n",
    "        x.append(np.zeros(10))\n",
    "        n = int(text)\n",
    "        x[-1][n] = 1\n",
    "      \n",
    "    text = file.readline()\n",
    "   \n",
    "file.close()\n",
    "net = Network([len(y[0]), 30, 10])\n",
    "\n",
    "Training_input = y[:946-94]\n",
    "validation_input = y[946-94:]\n",
    "training_output = x[:946-94]\n",
    "validation_output = x[946-94:]"
   ]
  },
  {
   "cell_type": "markdown",
   "id": "f6ba7341",
   "metadata": {},
   "source": [
    "* Carregando arquivos do teste 2"
   ]
  },
  {
   "cell_type": "code",
   "execution_count": 3,
   "id": "8692974a",
   "metadata": {},
   "outputs": [],
   "source": [
    "path = os.getcwd()\n",
    "Training_input = []\n",
    "training_output = []\n",
    "path = os.path.join(path, 'Data')\n",
    "path = os.path.join(path, 'training')\n",
    "\n",
    "for c in os.listdir(path):\n",
    "    \n",
    "    path2 = os.path.join(path, c)\n",
    "\n",
    "    for k in os.listdir(path2):\n",
    "        \n",
    "        im = io.imread(path2 +'\\\\'+ k)\n",
    "        aux = []\n",
    "        \n",
    "        for i in range(len(im)):\n",
    "            for j in range(len(im[i])):\n",
    "                aux.append(im[i][j]/255)\n",
    "                \n",
    "        Training_input.append(aux)\n",
    "        \n",
    "        training_output.append(np.zeros(10))\n",
    "        training_output[-1][int(c)] = 1\n",
    "        \n",
    "        \n",
    "path = os.getcwd()\n",
    "path = os.path.join(path, 'Data')\n",
    "path = os.path.join(path, 'testing')\n",
    "validation_input = []\n",
    "validation_output = []\n",
    "\n",
    "\n",
    "for c in os.listdir(path):\n",
    "    \n",
    "    path2 = os.path.join(path, c)\n",
    "\n",
    "    for k in os.listdir(path2):\n",
    "        \n",
    "        im = io.imread(path2 +'\\\\'+ k)\n",
    "        aux = []\n",
    "        \n",
    "        for i in range(len(im)):\n",
    "            for j in range(len(im[i])):\n",
    "                aux.append(im[i][j]/255)\n",
    "                \n",
    "        validation_input.append(aux)\n",
    "        \n",
    "        validation_output.append(np.zeros(10))\n",
    "        validation_output[-1][int(c)] = 1\n",
    "        \n",
    "        \n",
    "net = Network((len(validation_input[0]),30,10))"
   ]
  },
  {
   "cell_type": "markdown",
   "id": "01e75182",
   "metadata": {},
   "source": [
    "* Criando redes neurais para usar no algorítimo genético e ordenando-as por eficiência"
   ]
  },
  {
   "cell_type": "code",
   "execution_count": 35,
   "id": "c63e36f7",
   "metadata": {},
   "outputs": [
    {
     "name": "stdout",
     "output_type": "stream",
     "text": [
      "1.8006507556681024\n"
     ]
    },
    {
     "data": {
      "text/plain": [
       "1.0468606575060877"
      ]
     },
     "execution_count": 35,
     "metadata": {},
     "output_type": "execute_result"
    }
   ],
   "source": [
    "net = Network((len(validation_input[0]),30,10))\n",
    "print(net.cost_function_g(Training_input, training_output))\n",
    "net.cost_function(Training_input, training_output)"
   ]
  },
  {
   "cell_type": "code",
   "execution_count": 59,
   "id": "41ef5350",
   "metadata": {},
   "outputs": [],
   "source": [
    "nets = []\n",
    "num_net = 20\n",
    "testing = []\n",
    "for j in range(num_net):\n",
    "    nets.append(Network((len(validation_input[0]), 101, 10)))\n",
    "    \n",
    "    testing.append(nets[j].cost_function(Training_input, training_output))\n"
   ]
  },
  {
   "cell_type": "code",
   "execution_count": 60,
   "id": "f25748d5",
   "metadata": {},
   "outputs": [
    {
     "data": {
      "text/plain": [
       "[0.9742809804445024,\n",
       " 0.9539072083983248,\n",
       " 1.0722354928234568,\n",
       " 0.974366876793436,\n",
       " 1.0465771893710647,\n",
       " 0.9622822295892762,\n",
       " 0.9822363042827432,\n",
       " 0.9559495962309742,\n",
       " 1.0278155214732527,\n",
       " 0.9592705599409522,\n",
       " 0.9650230996428402,\n",
       " 1.3000842195898397,\n",
       " 1.004187181313796,\n",
       " 0.9574177021503224,\n",
       " 0.9604177220829248,\n",
       " 0.9580581479133758,\n",
       " 1.0478740490922276,\n",
       " 1.0770436286118112,\n",
       " 1.0525351509202379,\n",
       " 0.913271685369784]"
      ]
     },
     "execution_count": 60,
     "metadata": {},
     "output_type": "execute_result"
    }
   ],
   "source": [
    "testing"
   ]
  },
  {
   "cell_type": "code",
   "execution_count": 46,
   "id": "dd9c8bdc",
   "metadata": {},
   "outputs": [
    {
     "data": {
      "text/plain": [
       "array([0.27046302, 0.23013083, 0.25939653, 0.24000962])"
      ]
     },
     "execution_count": 46,
     "metadata": {},
     "output_type": "execute_result"
    }
   ],
   "source": [
    "prob = 1/np.array(testing)\n",
    "prob = (prob) / np.sum(prob)\n",
    "prob"
   ]
  },
  {
   "cell_type": "markdown",
   "id": "2d184ca2",
   "metadata": {},
   "source": [
    "* Genetic algorithm training\n"
   ]
  },
  {
   "cell_type": "code",
   "execution_count": 63,
   "id": "0e60ae09",
   "metadata": {
    "scrolled": true
   },
   "outputs": [
    {
     "name": "stdout",
     "output_type": "stream",
     "text": [
      "22.947999477386475 min para finalizar\n"
     ]
    }
   ],
   "source": [
    "def mutating(net, cost):\n",
    "    mutation = 0.01 * (1 - cost / 10)\n",
    "    for i in range(len(net.w)):\n",
    "        for j in range(len(net.w[i])):\n",
    "            for k in range(len(net.w[i][j])):\n",
    "                if random.random() < mutation:\n",
    "                    net.w[i][j][j] = np.random.normal(net.w[i][j][j], 1/np.sqrt(len(net.w[i][j])))\n",
    "\n",
    "    return None\n",
    "            \n",
    "def crossing(net_1, net_2):\n",
    "    \n",
    "    net = Network((len(validation_input[0]), 101, 10))\n",
    "    \n",
    "    \n",
    "    for i in range(len(net.w)):\n",
    "        #trashold_b = random.randint(0, len(net.b[i]) - 1)\n",
    "        net.w[i] = (net_1.w[i] + net_2.w[i]) / 2\n",
    "\n",
    "        net.b[i] = (net_1.b[i] + net_2.b[i]) / 2\n",
    "    \n",
    "    cost = net.cost_function(Training_input, training_output)\n",
    "        \n",
    "    mutating(net, cost)\n",
    "        \n",
    "        \n",
    "    return net, cost\n",
    "      \n",
    "times_interaction = 10\n",
    "num_net = len(nets)\n",
    "start = time()\n",
    "n = len(nets)\n",
    "\n",
    "for j in range(times_interaction):\n",
    "    prob = 1 / np.array(testing)\n",
    "    prob = prob / np.sum(prob)\n",
    "    nets_aux = []\n",
    "    testing_aux = []\n",
    "    \n",
    "    for k in range(n):\n",
    "        index = np.arange(0,len(nets)).tolist()\n",
    "        net_1_index = np.random.choice(index, p = prob)\n",
    "        net_1 = nets[net_1_index]\n",
    "        index.remove(net_1_index)\n",
    "        prob_aux = np.array([prob[x] for x in range(len(prob)) if x != net_1_index])\n",
    "        prob_aux = prob_aux / np.sum(prob_aux)\n",
    "        net_2_index = np.random.choice(index, p = prob_aux)\n",
    "        net_2 = nets[net_2_index]\n",
    "        net, cost = crossing(net_1, net_2)\n",
    "        testing_aux.append(cost)\n",
    "        nets_aux.append(net)\n",
    "        \n",
    "    nets = nets_aux * 1\n",
    "    testing = testing_aux * 1\n",
    "    \n",
    "    if j == 0:\n",
    "        stop = time()\n",
    "\n",
    "        print(str((stop - start) * times_interaction / 60) + ' min para finalizar')\n",
    "            \n"
   ]
  },
  {
   "cell_type": "markdown",
   "id": "a188fbde",
   "metadata": {},
   "source": [
    "* Testando o conjunto de redes"
   ]
  },
  {
   "cell_type": "code",
   "execution_count": 49,
   "id": "5f2f87e5",
   "metadata": {},
   "outputs": [
    {
     "name": "stdout",
     "output_type": "stream",
     "text": [
      "0.9043141470632183\n",
      "0.9043141470632367\n",
      "0.9043141470632428\n",
      "0.9043141470632481\n"
     ]
    },
    {
     "ename": "KeyboardInterrupt",
     "evalue": "",
     "output_type": "error",
     "traceback": [
      "\u001b[1;31m---------------------------------------------------------------------------\u001b[0m",
      "\u001b[1;31mKeyboardInterrupt\u001b[0m                         Traceback (most recent call last)",
      "\u001b[1;32m<ipython-input-49-8b5ec3060ada>\u001b[0m in \u001b[0;36m<module>\u001b[1;34m\u001b[0m\n\u001b[0;32m      1\u001b[0m \u001b[1;32mfor\u001b[0m \u001b[0mj\u001b[0m \u001b[1;32min\u001b[0m \u001b[0mrange\u001b[0m\u001b[1;33m(\u001b[0m\u001b[0mlen\u001b[0m\u001b[1;33m(\u001b[0m\u001b[0mnets\u001b[0m\u001b[1;33m)\u001b[0m\u001b[1;33m)\u001b[0m\u001b[1;33m:\u001b[0m\u001b[1;33m\u001b[0m\u001b[1;33m\u001b[0m\u001b[0m\n\u001b[1;32m----> 2\u001b[1;33m     \u001b[0mprint\u001b[0m\u001b[1;33m(\u001b[0m\u001b[0mnets\u001b[0m\u001b[1;33m[\u001b[0m\u001b[0mj\u001b[0m\u001b[1;33m]\u001b[0m\u001b[1;33m.\u001b[0m\u001b[0mcost_function\u001b[0m\u001b[1;33m(\u001b[0m\u001b[0mTraining_input\u001b[0m\u001b[1;33m,\u001b[0m \u001b[0mtraining_output\u001b[0m\u001b[1;33m)\u001b[0m\u001b[1;33m)\u001b[0m\u001b[1;33m\u001b[0m\u001b[1;33m\u001b[0m\u001b[0m\n\u001b[0m",
      "\u001b[1;32m<ipython-input-24-9a5d6c25ad56>\u001b[0m in \u001b[0;36mcost_function\u001b[1;34m(self, x, y)\u001b[0m\n\u001b[0;32m     92\u001b[0m         \u001b[0mC\u001b[0m \u001b[1;33m=\u001b[0m \u001b[1;36m0\u001b[0m\u001b[1;33m\u001b[0m\u001b[1;33m\u001b[0m\u001b[0m\n\u001b[0;32m     93\u001b[0m         \u001b[0mn\u001b[0m \u001b[1;33m=\u001b[0m \u001b[0mlen\u001b[0m\u001b[1;33m(\u001b[0m\u001b[0my\u001b[0m\u001b[1;33m)\u001b[0m\u001b[1;33m\u001b[0m\u001b[1;33m\u001b[0m\u001b[0m\n\u001b[1;32m---> 94\u001b[1;33m         \u001b[0ma\u001b[0m\u001b[1;33m,\u001b[0m \u001b[0mtrash\u001b[0m \u001b[1;33m=\u001b[0m \u001b[0mself\u001b[0m\u001b[1;33m.\u001b[0m\u001b[0mevaluate_2\u001b[0m\u001b[1;33m(\u001b[0m\u001b[0mnp\u001b[0m\u001b[1;33m.\u001b[0m\u001b[0marray\u001b[0m\u001b[1;33m(\u001b[0m\u001b[0mx\u001b[0m\u001b[1;33m)\u001b[0m\u001b[1;33m)\u001b[0m\u001b[1;33m\u001b[0m\u001b[1;33m\u001b[0m\u001b[0m\n\u001b[0m\u001b[0;32m     95\u001b[0m         \u001b[0ma\u001b[0m \u001b[1;33m=\u001b[0m \u001b[0ma\u001b[0m\u001b[1;33m[\u001b[0m\u001b[1;33m-\u001b[0m\u001b[1;36m1\u001b[0m\u001b[1;33m]\u001b[0m\u001b[1;33m\u001b[0m\u001b[1;33m\u001b[0m\u001b[0m\n\u001b[0;32m     96\u001b[0m \u001b[1;33m\u001b[0m\u001b[0m\n",
      "\u001b[1;32m<ipython-input-24-9a5d6c25ad56>\u001b[0m in \u001b[0;36mevaluate_2\u001b[1;34m(self, y)\u001b[0m\n\u001b[0;32m    126\u001b[0m                 \u001b[0mvec_aux\u001b[0m \u001b[1;33m=\u001b[0m \u001b[0msoftmax\u001b[0m\u001b[1;33m(\u001b[0m\u001b[0ma\u001b[0m\u001b[1;33m[\u001b[0m\u001b[0mi\u001b[0m\u001b[1;33m]\u001b[0m\u001b[1;33m.\u001b[0m\u001b[0mtranspose\u001b[0m\u001b[1;33m(\u001b[0m\u001b[1;33m)\u001b[0m\u001b[1;33m,\u001b[0m \u001b[0mself\u001b[0m\u001b[1;33m.\u001b[0m\u001b[0mw\u001b[0m\u001b[1;33m[\u001b[0m\u001b[0mi\u001b[0m\u001b[1;33m]\u001b[0m\u001b[1;33m,\u001b[0m \u001b[0mself\u001b[0m\u001b[1;33m.\u001b[0m\u001b[0mb\u001b[0m\u001b[1;33m[\u001b[0m\u001b[0mi\u001b[0m\u001b[1;33m]\u001b[0m\u001b[1;33m,\u001b[0m \u001b[1;32mTrue\u001b[0m\u001b[1;33m)\u001b[0m\u001b[1;33m\u001b[0m\u001b[1;33m\u001b[0m\u001b[0m\n\u001b[0;32m    127\u001b[0m             \u001b[1;32melse\u001b[0m\u001b[1;33m:\u001b[0m\u001b[1;33m\u001b[0m\u001b[1;33m\u001b[0m\u001b[0m\n\u001b[1;32m--> 128\u001b[1;33m                 \u001b[0mvec_aux\u001b[0m \u001b[1;33m=\u001b[0m \u001b[0msigmoid\u001b[0m\u001b[1;33m(\u001b[0m\u001b[0ma\u001b[0m\u001b[1;33m[\u001b[0m\u001b[0mi\u001b[0m\u001b[1;33m]\u001b[0m\u001b[1;33m.\u001b[0m\u001b[0mtranspose\u001b[0m\u001b[1;33m(\u001b[0m\u001b[1;33m)\u001b[0m\u001b[1;33m,\u001b[0m \u001b[0mself\u001b[0m\u001b[1;33m.\u001b[0m\u001b[0mw\u001b[0m\u001b[1;33m[\u001b[0m\u001b[0mi\u001b[0m\u001b[1;33m]\u001b[0m\u001b[1;33m,\u001b[0m \u001b[0mself\u001b[0m\u001b[1;33m.\u001b[0m\u001b[0mb\u001b[0m\u001b[1;33m[\u001b[0m\u001b[0mi\u001b[0m\u001b[1;33m]\u001b[0m\u001b[1;33m,\u001b[0m \u001b[1;32mTrue\u001b[0m\u001b[1;33m)\u001b[0m\u001b[1;33m\u001b[0m\u001b[1;33m\u001b[0m\u001b[0m\n\u001b[0m\u001b[0;32m    129\u001b[0m \u001b[1;33m\u001b[0m\u001b[0m\n\u001b[0;32m    130\u001b[0m             \u001b[0mz\u001b[0m\u001b[1;33m.\u001b[0m\u001b[0mappend\u001b[0m\u001b[1;33m(\u001b[0m\u001b[0mvec_aux\u001b[0m\u001b[1;33m[\u001b[0m\u001b[1;36m1\u001b[0m\u001b[1;33m]\u001b[0m\u001b[1;33m)\u001b[0m\u001b[1;33m\u001b[0m\u001b[1;33m\u001b[0m\u001b[0m\n",
      "\u001b[1;32m<ipython-input-24-9a5d6c25ad56>\u001b[0m in \u001b[0;36msigmoid\u001b[1;34m(x, y, b, val)\u001b[0m\n\u001b[0;32m      1\u001b[0m \u001b[1;32mdef\u001b[0m \u001b[0msigmoid\u001b[0m\u001b[1;33m(\u001b[0m\u001b[0mx\u001b[0m\u001b[1;33m,\u001b[0m \u001b[0my\u001b[0m\u001b[1;33m,\u001b[0m \u001b[0mb\u001b[0m\u001b[1;33m,\u001b[0m \u001b[0mval\u001b[0m\u001b[1;33m)\u001b[0m\u001b[1;33m:\u001b[0m    \u001b[1;31m#Função de ativação usada para avaliar a rede\u001b[0m\u001b[1;33m\u001b[0m\u001b[1;33m\u001b[0m\u001b[0m\n\u001b[0;32m      2\u001b[0m \u001b[1;33m\u001b[0m\u001b[0m\n\u001b[1;32m----> 3\u001b[1;33m     \u001b[0mz\u001b[0m \u001b[1;33m=\u001b[0m \u001b[0mnp\u001b[0m\u001b[1;33m.\u001b[0m\u001b[0mdot\u001b[0m\u001b[1;33m(\u001b[0m\u001b[0my\u001b[0m\u001b[1;33m,\u001b[0m \u001b[0mx\u001b[0m\u001b[1;33m)\u001b[0m\u001b[1;33m\u001b[0m\u001b[1;33m\u001b[0m\u001b[0m\n\u001b[0m\u001b[0;32m      4\u001b[0m \u001b[1;33m\u001b[0m\u001b[0m\n\u001b[0;32m      5\u001b[0m     \u001b[1;32mif\u001b[0m \u001b[0mval\u001b[0m\u001b[1;33m:\u001b[0m\u001b[1;33m\u001b[0m\u001b[1;33m\u001b[0m\u001b[0m\n",
      "\u001b[1;32m<__array_function__ internals>\u001b[0m in \u001b[0;36mdot\u001b[1;34m(*args, **kwargs)\u001b[0m\n",
      "\u001b[1;31mKeyboardInterrupt\u001b[0m: "
     ]
    }
   ],
   "source": [
    "for j in range(len(nets)):        \n",
    "    print(nets[j].cost_function(Training_input, training_output))"
   ]
  },
  {
   "cell_type": "code",
   "execution_count": 64,
   "id": "5881b1d1",
   "metadata": {
    "scrolled": true
   },
   "outputs": [
    {
     "name": "stdout",
     "output_type": "stream",
     "text": [
      "11.35\n",
      "11.35\n",
      "11.35\n",
      "11.35\n",
      "11.35\n",
      "11.35\n",
      "13.919999999999998\n",
      "11.35\n",
      "10.32\n",
      "12.11\n",
      "10.32\n",
      "11.35\n",
      "11.360000000000001\n",
      "11.35\n",
      "11.35\n",
      "11.35\n",
      "11.379999999999999\n",
      "11.379999999999999\n",
      "11.35\n",
      "9.99\n"
     ]
    }
   ],
   "source": [
    "for net in nets:        \n",
    "    print(test(net, validation_input, validation_output))"
   ]
  },
  {
   "cell_type": "markdown",
   "id": "d24b1cd0",
   "metadata": {},
   "source": [
    "* Rede Neural para treinamento individual"
   ]
  },
  {
   "cell_type": "code",
   "execution_count": 169,
   "id": "35856d8b",
   "metadata": {},
   "outputs": [],
   "source": [
    "net = Network((len(validation_input[0]), 101, 10))"
   ]
  },
  {
   "cell_type": "markdown",
   "id": "d6e216ef",
   "metadata": {},
   "source": [
    "* Processo de trainamento e teste com rede neural doméstica"
   ]
  },
  {
   "cell_type": "code",
   "execution_count": 175,
   "id": "6efc9886",
   "metadata": {},
   "outputs": [
    {
     "name": "stdout",
     "output_type": "stream",
     "text": [
      "0.005666740238666534h para finalizar\n"
     ]
    },
    {
     "data": {
      "text/plain": [
       "91.47"
      ]
     },
     "execution_count": 175,
     "metadata": {},
     "output_type": "execute_result"
    }
   ],
   "source": [
    "net.run_epoch(100, Training_input, training_output)\n",
    "test(net, validation_input, validation_output)"
   ]
  },
  {
   "cell_type": "code",
   "execution_count": 171,
   "id": "8c1501ce",
   "metadata": {},
   "outputs": [
    {
     "data": {
      "text/plain": [
       "9.8"
      ]
     },
     "execution_count": 171,
     "metadata": {},
     "output_type": "execute_result"
    }
   ],
   "source": [
    "test(net, validation_input, validation_output)"
   ]
  },
  {
   "cell_type": "markdown",
   "id": "36f10322",
   "metadata": {},
   "source": [
    "# Trainamento e teste de dados com rede pronta\n",
    "\n",
    "\n",
    "\n",
    "\n"
   ]
  },
  {
   "cell_type": "code",
   "execution_count": 51,
   "id": "8ebf779f",
   "metadata": {},
   "outputs": [
    {
     "data": {
      "text/plain": [
       "MLPRegressor(activation='logistic', alpha=0, hidden_layer_sizes=30,\n",
       "             learning_rate_init=0.05, max_iter=300, solver='sgd')"
      ]
     },
     "execution_count": 51,
     "metadata": {},
     "output_type": "execute_result"
    }
   ],
   "source": [
    "rna = MLPRegressor(hidden_layer_sizes = (30), verbose = False, activation = 'logistic', solver = 'sgd', alpha = 0, learning_rate = 'constant', learning_rate_init = 0.05, tol = 0.0001, max_iter = 300)\n",
    "rna.fit(Training_input, training_output)"
   ]
  },
  {
   "cell_type": "code",
   "execution_count": 52,
   "id": "e5dabda7",
   "metadata": {},
   "outputs": [
    {
     "name": "stdout",
     "output_type": "stream",
     "text": [
      "93.89% de acertos\n"
     ]
    }
   ],
   "source": [
    "cont = 0\n",
    "for i in range(len(validation_input)):\n",
    "    result_output = rna.predict([validation_input[i]])\n",
    "    test = interpretation(result_output[0], validation_output[i])\n",
    "    if test:\n",
    "        cont += 1\n",
    "print(str(cont/len(validation_output)*100) + '% de acertos')"
   ]
  },
  {
   "cell_type": "markdown",
   "id": "02c9c6d0",
   "metadata": {},
   "source": [
    "# Relatos\n",
    "\n",
    "* Network with one haden layer and 28 neurons, learning rate of 0.005 and regularization parameter of 0.0001\n",
    "\n",
    "     95.6% of success, with approximately 4500 epoches\n",
    "     \n",
    "     \n",
    "* Network with one haden layer and 101 neurons, learning rate of 0.005 and regularization parameter of 0.0005\n",
    "\n",
    "     96.13% of success"
   ]
  },
  {
   "cell_type": "markdown",
   "id": "d450ced1",
   "metadata": {},
   "source": [
    "# Células de teste de códigos"
   ]
  },
  {
   "cell_type": "code",
   "execution_count": 87,
   "id": "e3ef4604",
   "metadata": {},
   "outputs": [
    {
     "data": {
      "text/plain": [
       "<matplotlib.image.AxesImage at 0x194e7758c10>"
      ]
     },
     "execution_count": 87,
     "metadata": {},
     "output_type": "execute_result"
    },
    {
     "data": {
      "image/png": "[encoded data removed]",
      "text/plain": [
       "<Figure size 432x288 with 1 Axes>"
      ]
     },
     "metadata": {
      "needs_background": "light"
     },
     "output_type": "display_data"
    }
   ],
   "source": [
    "path = os.getcwd()\n",
    "os.listdir(path)\n",
    "y = []\n",
    "x = []\n",
    "path = os.path.join(path, 'Data')\n",
    "path = os.path.join(path, 'Training')\n",
    "for c in os.listdir(path):\n",
    "    path2 = os.path.join(path2, 'c')\n",
    "#path = os.path.join(path, os.listdir(path)[0])\n",
    "    for k in os.listdir(path2):\n",
    "        im = io.imread(path +'\\\\'+ k)\n",
    "        aux = []\n",
    "        for i in range(len(im)):\n",
    "            for j in range(len(im[i])):\n",
    "                aux.append(im[i][j])\n",
    "        y.append(aux)\n",
    "        x.append(np.zeros(10))\n",
    "        x[-1][int(c)] = 1\n",
    "plt.imshow(im)"
   ]
  },
  {
   "cell_type": "code",
   "execution_count": 35,
   "id": "9d44445b",
   "metadata": {},
   "outputs": [
    {
     "name": "stdout",
     "output_type": "stream",
     "text": [
      "3.166015625\n"
     ]
    }
   ],
   "source": [
    "a = 2.9\n",
    "start = time()\n",
    "for n in range(1000000):\n",
    "    np.power(a, 2)\n",
    "    \n",
    "    \n",
    "stop = time()\n",
    "print(stop - start)"
   ]
  },
  {
   "cell_type": "code",
   "execution_count": 192,
   "id": "104d0b46",
   "metadata": {},
   "outputs": [
    {
     "data": {
      "text/plain": [
       "array([[ 1,  2,  3,  3],\n",
       "       [ 3,  6,  9,  9],\n",
       "       [ 5, 10, 15, 15],\n",
       "       [ 1,  2,  3,  3]])"
      ]
     },
     "execution_count": 192,
     "metadata": {},
     "output_type": "execute_result"
    }
   ],
   "source": [
    "a = np.array([[1,2], [3,3]])\n",
    "b = np.array([[1,3],[5,1]])\n",
    "np.outer(a, b).transpose()"
   ]
  },
  {
   "cell_type": "code",
   "execution_count": 202,
   "id": "99f8ca4d",
   "metadata": {},
   "outputs": [
    {
     "data": {
      "text/plain": [
       "array([[  1, 495],\n",
       "       [  2, 605]])"
      ]
     },
     "execution_count": 202,
     "metadata": {},
     "output_type": "execute_result"
    }
   ],
   "source": [
    "a = np.array([[1, 9],[2,11]])\n",
    "b = np.array([[1, 55], [3, 48]])\n",
    "a * b[0]"
   ]
  },
  {
   "cell_type": "code",
   "execution_count": 36,
   "id": "66a20b55",
   "metadata": {},
   "outputs": [
    {
     "data": {
      "text/plain": [
       "array([[  6, 594],\n",
       "       [  0,   0],\n",
       "       [ 12, 396]])"
      ]
     },
     "execution_count": 36,
     "metadata": {},
     "output_type": "execute_result"
    }
   ],
   "source": [
    "a = np.array([[1,2,5],[1,9,9], [1,9,9], [1,9,9]])\n",
    "b = np.array([[1,55],[2,55], [3,55]])\n",
    "c = np.array([[1,99],[2,99], [3,99]]).transpose()\n",
    "d = np.array([6,0, 4])\n",
    "(d*c).transpose()"
   ]
  },
  {
   "cell_type": "code",
   "execution_count": 53,
   "id": "7f9268ce",
   "metadata": {},
   "outputs": [],
   "source": [
    "import mpmath\n",
    "mpmath.mp.dps = 10"
   ]
  },
  {
   "cell_type": "code",
   "execution_count": 23,
   "id": "cc98b691",
   "metadata": {},
   "outputs": [
    {
     "name": "stdout",
     "output_type": "stream",
     "text": [
      ".\n",
      ".\n"
     ]
    }
   ],
   "source": [
    "for i in range(700000):\n",
    "    if random.random() < 0.000001:\n",
    "        print('.')"
   ]
  },
  {
   "cell_type": "code",
   "execution_count": 194,
   "id": "026206ad",
   "metadata": {},
   "outputs": [
    {
     "data": {
      "text/plain": [
       "[array([0.33333333, 0.33333333, 0.33333333]),\n",
       " array([0.25949646, 0.70538451, 0.03511903])]"
      ]
     },
     "execution_count": 194,
     "metadata": {},
     "output_type": "execute_result"
    }
   ],
   "source": [
    "a = np.array([[1,1, 1],[2,3, 0]])\n",
    "b = np.array([[2,3, 6], [1,1, 1], [2,2, 2], [0,0,0]]).transpose()\n",
    "#b=np.array([1,1,1])\n",
    "#np.dot(a, b).transpose()\n",
    "exp_z = np.exp(a)\n",
    "output = []\n",
    "for exp in exp_z:\n",
    "    output.append(exp / np.sum(exp))\n",
    "output"
   ]
  },
  {
   "cell_type": "code",
   "execution_count": 47,
   "id": "5760f543",
   "metadata": {},
   "outputs": [
    {
     "data": {
      "text/plain": [
       "array([0.05324408, 0.04922752, 0.04803276, 0.04208379, 0.03904111,\n",
       "       0.03896629, 0.03839088, 0.0365004 , 0.03430488, 0.03322734,\n",
       "       0.0329361 , 0.03101372, 0.03010722, 0.029683  , 0.02868591,\n",
       "       0.02750974, 0.02400475, 0.02329676, 0.02324087, 0.02321434,\n",
       "       0.0222776 , 0.02117937, 0.02092885, 0.02036603, 0.02022621,\n",
       "       0.01820347, 0.0161117 , 0.01600989, 0.01519398, 0.01486297,\n",
       "       0.01481072, 0.01455332, 0.0141081 , 0.0138024 , 0.01318903,\n",
       "       0.01234874, 0.01209942, 0.01157714, 0.01132187, 0.01011772])"
      ]
     },
     "execution_count": 47,
     "metadata": {},
     "output_type": "execute_result"
    }
   ],
   "source": [
    "o = testing/np.sum(testing)\n",
    "o = (1-o)**1000/ np.sum((1-o)**1000)\n",
    "o"
   ]
  },
  {
   "cell_type": "code",
   "execution_count": 7,
   "id": "82c01c42",
   "metadata": {},
   "outputs": [
    {
     "data": {
      "text/plain": [
       "[1, 2, 35, 6, 8, 9]"
      ]
     },
     "execution_count": 7,
     "metadata": {},
     "output_type": "execute_result"
    }
   ],
   "source": [
    "a = [1,2,3,35,6,8,9]\n",
    "[a[x] for x in range(len(a)) if x != 2]"
   ]
  }
 ],
 "metadata": {
  "kernelspec": {
   "display_name": "Python 3",
   "language": "python",
   "name": "python3"
  },
  "language_info": {
   "codemirror_mode": {
    "name": "ipython",
    "version": 3
   },
   "file_extension": ".py",
   "mimetype": "text/x-python",
   "name": "python",
   "nbconvert_exporter": "python",
   "pygments_lexer": "ipython3",
   "version": "3.8.8"
  }
 },
 "nbformat": 4,
 "nbformat_minor": 5
}
